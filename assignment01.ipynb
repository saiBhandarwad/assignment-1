{
 "cells": [
  {
   "cell_type": "code",
   "execution_count": null,
   "id": "cbfe749a-8edd-4ae1-b256-e26b8cf451f4",
   "metadata": {},
   "outputs": [],
   "source": [
    "'''Q1.ANS\n",
    "for loop is used to once over list or iterables ,mutables.\n",
    "in for loop it increment its iterater value by one every time , for loop is used only when we want to get each element or element related operation\n",
    "and returns new list or any other like set , tuple, dictionary,etc, \n",
    "in for loop iterator moves between the given range\n",
    "ex='''\n",
    "l=[1,2,3,4,5]\n",
    "l1=[]\n",
    "for i in l:\n",
    "    print(i)\n",
    "    l1.append(i*i)\n",
    "print(l1)\n",
    "'''while loops is used to run the same task multiple times while condition is true , \n",
    "in while loop user can define to increment iterator or not .\n",
    "ex='''\n",
    "\n",
    "a=1\n",
    "while a<5 :\n",
    "    print(a)\n",
    "    a+=1\n"
   ]
  },
  {
   "cell_type": "code",
   "execution_count": null,
   "id": "98da57ba-2ad6-48d7-a7ae-46e28216c25b",
   "metadata": {},
   "outputs": [],
   "source": [
    "# Q2.ANS\n",
    "# for loop\n",
    "multOfNaturals=1\n",
    "sumOfNaturals=0\n",
    "\n",
    "for i in range(1,11):\n",
    "    sumOfNaturals+=i\n",
    "    multOfNaturals*=i\n",
    "    \n",
    "print(sumOfNaturals)\n",
    "print( multOfNaturals)\n",
    "\n",
    "# while loop\n",
    "a=1\n",
    "additionOfNaturals=0\n",
    "productOfNaturals=1\n",
    "while a<=10 :\n",
    "    additionOfNaturals+=a\n",
    "    productOfNaturals*=a\n",
    "    a+=1\n",
    "print(additionOfNaturals)\n",
    "print(productOfNaturals)"
   ]
  },
  {
   "cell_type": "code",
   "execution_count": null,
   "id": "97ac9565-9675-4a63-933b-3dc11a98b881",
   "metadata": {},
   "outputs": [],
   "source": [
    "# Q3.ANS\n",
    "unit=int(input(\"enter your unit to get bill: \"))\n",
    "bill=0\n",
    "if unit==310:\n",
    "    bill=2250\n",
    "    print(\"your bill amount is: \" ,bill)\n",
    "elif unit<=100 and unit>0:\n",
    "    bill=unit*4.5\n",
    "    print(\"your bill amount is: \" ,bill)\n",
    "elif unit>100 and unit<=200:\n",
    "    bill=unit*6\n",
    "    print(\"your bill amount is: \" ,bill)\n",
    "elif unit>200 and unit<=300:\n",
    "    bill=unit*10\n",
    "    print(\"your bill amount is: \" ,bill)\n",
    "elif unit>300 :\n",
    "    bill=unit*20\n",
    "    print(\"your bill amount is: \" ,bill)\n",
    "else:\n",
    "    print(\"please enter proper value\")"
   ]
  },
  {
   "cell_type": "code",
   "execution_count": null,
   "id": "bb9b59d8-29b4-4201-8fc7-fdf8df21feea",
   "metadata": {},
   "outputs": [],
   "source": [
    "# Q4.ANS\n",
    "l=list(range(1,100))\n",
    "l1=[]\n",
    "for i in l:\n",
    "    cube=i*i*i\n",
    "    if cube%4==0 or cube%5==0:\n",
    "        l1.append(cube)\n",
    "print(l1)"
   ]
  },
  {
   "cell_type": "code",
   "execution_count": null,
   "id": "3ec7e861-5adb-478e-a7cf-07da67288b83",
   "metadata": {},
   "outputs": [],
   "source": [
    "# Q5.ANS\n",
    "string=\"I want to become a data scientist\"\n",
    "def vowel(a):\n",
    "    count=0\n",
    "    vowels=set(\"aeiouAEIOU\")\n",
    "    for i in string:\n",
    "        if i in vowels:\n",
    "            count+=1\n",
    "    print(count)\n",
    "vowel(string)      "
   ]
  }
 ],
 "metadata": {
  "kernelspec": {
   "display_name": "Python 3 (ipykernel)",
   "language": "python",
   "name": "python3"
  },
  "language_info": {
   "codemirror_mode": {
    "name": "ipython",
    "version": 3
   },
   "file_extension": ".py",
   "mimetype": "text/x-python",
   "name": "python",
   "nbconvert_exporter": "python",
   "pygments_lexer": "ipython3",
   "version": "3.10.8"
  }
 },
 "nbformat": 4,
 "nbformat_minor": 5
}
